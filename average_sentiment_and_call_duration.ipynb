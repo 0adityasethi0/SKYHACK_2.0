{
  "nbformat": 4,
  "nbformat_minor": 0,
  "metadata": {
    "colab": {
      "provenance": []
    },
    "kernelspec": {
      "name": "python3",
      "display_name": "Python 3"
    },
    "language_info": {
      "name": "python"
    }
  },
  "cells": [
    {
      "cell_type": "code",
      "execution_count": 1,
      "metadata": {
        "colab": {
          "base_uri": "https://localhost:8080/"
        },
        "id": "574GfTzuT5mp",
        "outputId": "470953e0-46ad-4243-8256-8fbe0d619106"
      },
      "outputs": [
        {
          "output_type": "stream",
          "name": "stdout",
          "text": [
            "Mounted at /content/drive\n"
          ]
        }
      ],
      "source": [
        "from google.colab import drive\n",
        "drive.mount('/content/drive')\n",
        "import os\n",
        "os.chdir('/content/drive/My Drive/hackathon/hackathon')"
      ]
    },
    {
      "cell_type": "code",
      "source": [
        "import pandas as pd\n",
        "import numpy as np\n",
        "import matplotlib.pyplot as plt\n",
        "import io\n",
        "import seaborn as sns\n",
        "from google.colab import files"
      ],
      "metadata": {
        "id": "5Bn0FPfIUESH"
      },
      "execution_count": 2,
      "outputs": []
    },
    {
      "cell_type": "code",
      "source": [
        "call_duration_df = pd.read_csv('updated_file_with_call_duration.csv')\n",
        "sentiment_df = pd.read_csv('customer sentiment.csv')"
      ],
      "metadata": {
        "id": "SRICWpv8UzSv"
      },
      "execution_count": 4,
      "outputs": []
    },
    {
      "cell_type": "code",
      "source": [
        "print(call_duration_df.head())\n",
        "print(sentiment_df.head())"
      ],
      "metadata": {
        "colab": {
          "base_uri": "https://localhost:8080/"
        },
        "id": "NwwYKTByUzjz",
        "outputId": "d2042122-e83a-4b64-cbcf-be1b0790c071"
      },
      "execution_count": 5,
      "outputs": [
        {
          "output_type": "stream",
          "name": "stdout",
          "text": [
            "      call_id  customer_id  agent_id  call_start_datetime  \\\n",
            "0  4667960400   2033123310    963118  2024-07-31 23:56:00   \n",
            "1  1122072124   8186702651    519057  2024-08-01 00:03:00   \n",
            "2  6834291559   2416856629    158319  2024-07-31 23:59:00   \n",
            "3  2266439882   1154544516    488324  2024-08-01 00:05:00   \n",
            "4  1211603231   5214456437    721730  2024-08-01 00:04:00   \n",
            "\n",
            "  agent_assigned_datetime    call_end_datetime  \\\n",
            "0           8/1/2024 0:03  2024-08-01 00:34:00   \n",
            "1           8/1/2024 0:06  2024-08-01 00:18:00   \n",
            "2           8/1/2024 0:07  2024-08-01 00:26:00   \n",
            "3           8/1/2024 0:10  2024-08-01 00:17:00   \n",
            "4           8/1/2024 0:14  2024-08-01 00:23:00   \n",
            "\n",
            "                                     call_transcript  call_duration  \n",
            "0  \\n\\nAgent: Thank you for calling United Airlin...           38.0  \n",
            "1  \\n\\nAgent: Thank you for calling United Airlin...           15.0  \n",
            "2  \\n\\nAgent: Thank you for calling United Airlin...           27.0  \n",
            "3  \\n\\nAgent: Thank you for calling United Airlin...           12.0  \n",
            "4  \\n\\nAgent: Thank you for calling United Airlin...           19.0  \n",
            "      call_id  agent_id agent_tone customer_tone  average_sentiment  \\\n",
            "0  4667960400    963118    neutral         angry              -0.04   \n",
            "1  1122072124    519057       calm       neutral               0.02   \n",
            "2  6834291559    158319    neutral        polite              -0.13   \n",
            "3  2266439882    488324    neutral    frustrated              -0.20   \n",
            "4  1211603231    721730    neutral        polite              -0.05   \n",
            "\n",
            "   silence_percent_average  \n",
            "0                     0.39  \n",
            "1                     0.35  \n",
            "2                     0.32  \n",
            "3                     0.20  \n",
            "4                     0.35  \n"
          ]
        }
      ]
    },
    {
      "cell_type": "code",
      "source": [
        "merged_df = pd.merge(call_duration_df, sentiment_df, on='call_id')\n",
        "print(merged_df.head())"
      ],
      "metadata": {
        "colab": {
          "base_uri": "https://localhost:8080/"
        },
        "id": "3u49WjreVELe",
        "outputId": "01a313cd-3bdd-45a7-887f-38a3e0074b79"
      },
      "execution_count": 7,
      "outputs": [
        {
          "output_type": "stream",
          "name": "stdout",
          "text": [
            "      call_id  customer_id  agent_id_x  call_start_datetime  \\\n",
            "0  4667960400   2033123310      963118  2024-07-31 23:56:00   \n",
            "1  1122072124   8186702651      519057  2024-08-01 00:03:00   \n",
            "2  6834291559   2416856629      158319  2024-07-31 23:59:00   \n",
            "3  2266439882   1154544516      488324  2024-08-01 00:05:00   \n",
            "4  1211603231   5214456437      721730  2024-08-01 00:04:00   \n",
            "\n",
            "  agent_assigned_datetime    call_end_datetime  \\\n",
            "0           8/1/2024 0:03  2024-08-01 00:34:00   \n",
            "1           8/1/2024 0:06  2024-08-01 00:18:00   \n",
            "2           8/1/2024 0:07  2024-08-01 00:26:00   \n",
            "3           8/1/2024 0:10  2024-08-01 00:17:00   \n",
            "4           8/1/2024 0:14  2024-08-01 00:23:00   \n",
            "\n",
            "                                     call_transcript  call_duration  \\\n",
            "0  \\n\\nAgent: Thank you for calling United Airlin...           38.0   \n",
            "1  \\n\\nAgent: Thank you for calling United Airlin...           15.0   \n",
            "2  \\n\\nAgent: Thank you for calling United Airlin...           27.0   \n",
            "3  \\n\\nAgent: Thank you for calling United Airlin...           12.0   \n",
            "4  \\n\\nAgent: Thank you for calling United Airlin...           19.0   \n",
            "\n",
            "   agent_id_y agent_tone customer_tone  average_sentiment  \\\n",
            "0      963118    neutral         angry              -0.04   \n",
            "1      519057       calm       neutral               0.02   \n",
            "2      158319    neutral        polite              -0.13   \n",
            "3      488324    neutral    frustrated              -0.20   \n",
            "4      721730    neutral        polite              -0.05   \n",
            "\n",
            "   silence_percent_average  \n",
            "0                     0.39  \n",
            "1                     0.35  \n",
            "2                     0.32  \n",
            "3                     0.20  \n",
            "4                     0.35  \n"
          ]
        }
      ]
    },
    {
      "cell_type": "code",
      "source": [
        "correlation = call_duration_df['call_duration'].corr(sentiment_df['average_sentiment'])"
      ],
      "metadata": {
        "id": "avFGvbyZVI7I"
      },
      "execution_count": 8,
      "outputs": []
    },
    {
      "cell_type": "code",
      "source": [
        "print(f'Correlation between call_duration and average_sentiment: {correlation}')"
      ],
      "metadata": {
        "colab": {
          "base_uri": "https://localhost:8080/"
        },
        "id": "etIpmFctVVg1",
        "outputId": "304c03be-989d-4587-834a-9c8600f4e450"
      },
      "execution_count": 9,
      "outputs": [
        {
          "output_type": "stream",
          "name": "stdout",
          "text": [
            "Correlation between call_duration and average_sentiment: -0.06737233676517697\n"
          ]
        }
      ]
    },
    {
      "cell_type": "code",
      "source": [
        "correlation_matrix = merged_df[['call_duration', 'average_sentiment']].corr()\n",
        "\n",
        "plt.figure(figsize=(8,6))\n",
        "sns.heatmap(correlation_matrix, annot=True, cmap='coolwarm', linewidths=0.5)\n",
        "\n",
        "plt.title('Correlation Heatmap between Call Duration and average sentiment')\n",
        "plt.show()"
      ],
      "metadata": {
        "colab": {
          "base_uri": "https://localhost:8080/",
          "height": 545
        },
        "id": "lztICKPAVikX",
        "outputId": "7b3c312c-95ea-45a0-f52a-dfecdedf01c4"
      },
      "execution_count": 11,
      "outputs": [
        {
          "output_type": "display_data",
          "data": {
            "text/plain": [
              "<Figure size 800x600 with 2 Axes>"
            ],
            "image/png": "[encoded data removed]"
          },
          "metadata": {}
        }
      ]
    }
  ]
}