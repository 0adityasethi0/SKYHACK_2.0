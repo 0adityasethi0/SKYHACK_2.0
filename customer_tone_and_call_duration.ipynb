{
  "nbformat": 4,
  "nbformat_minor": 0,
  "metadata": {
    "colab": {
      "provenance": []
    },
    "kernelspec": {
      "name": "python3",
      "display_name": "Python 3"
    },
    "language_info": {
      "name": "python"
    }
  },
  "cells": [
    {
      "cell_type": "code",
      "execution_count": 1,
      "metadata": {
        "colab": {
          "base_uri": "https://localhost:8080/"
        },
        "id": "VDLFlAkJoIOM",
        "outputId": "2104edb0-d7e1-48a9-898b-1f95069678a2"
      },
      "outputs": [
        {
          "output_type": "stream",
          "name": "stdout",
          "text": [
            "Mounted at /content/drive\n"
          ]
        }
      ],
      "source": [
        "from google.colab import drive\n",
        "drive.mount('/content/drive')\n",
        "import os\n",
        "os.chdir('/content/drive/My Drive/hackathon/hackathon')"
      ]
    },
    {
      "cell_type": "code",
      "source": [
        "import pandas as pd\n",
        "import numpy as np\n",
        "import matplotlib.pyplot as plt\n",
        "import io\n",
        "import seaborn as sns\n",
        "from google.colab import files\n",
        "from sklearn.preprocessing import LabelEncoder"
      ],
      "metadata": {
        "id": "5wi20rVSoVuK"
      },
      "execution_count": 2,
      "outputs": []
    },
    {
      "cell_type": "code",
      "source": [
        "df_duration = pd.read_csv('updated_file_with_call_duration.csv')\n",
        "df_ctone = pd.read_csv('customer sentiment.csv')   #ctone is customer tone"
      ],
      "metadata": {
        "id": "-n4cU1pGoX78"
      },
      "execution_count": 3,
      "outputs": []
    },
    {
      "cell_type": "code",
      "source": [
        "print(df_duration.head())\n",
        "print(df_ctone.head())"
      ],
      "metadata": {
        "colab": {
          "base_uri": "https://localhost:8080/"
        },
        "id": "r1yZq6ghodeK",
        "outputId": "55d2c103-2bed-440c-a976-b8e95f5be00f"
      },
      "execution_count": 4,
      "outputs": [
        {
          "output_type": "stream",
          "name": "stdout",
          "text": [
            "      call_id  customer_id  agent_id  call_start_datetime  \\\n",
            "0  4667960400   2033123310    963118  2024-07-31 23:56:00   \n",
            "1  1122072124   8186702651    519057  2024-08-01 00:03:00   \n",
            "2  6834291559   2416856629    158319  2024-07-31 23:59:00   \n",
            "3  2266439882   1154544516    488324  2024-08-01 00:05:00   \n",
            "4  1211603231   5214456437    721730  2024-08-01 00:04:00   \n",
            "\n",
            "  agent_assigned_datetime    call_end_datetime  \\\n",
            "0           8/1/2024 0:03  2024-08-01 00:34:00   \n",
            "1           8/1/2024 0:06  2024-08-01 00:18:00   \n",
            "2           8/1/2024 0:07  2024-08-01 00:26:00   \n",
            "3           8/1/2024 0:10  2024-08-01 00:17:00   \n",
            "4           8/1/2024 0:14  2024-08-01 00:23:00   \n",
            "\n",
            "                                     call_transcript  call_duration  \n",
            "0  \\n\\nAgent: Thank you for calling United Airlin...           38.0  \n",
            "1  \\n\\nAgent: Thank you for calling United Airlin...           15.0  \n",
            "2  \\n\\nAgent: Thank you for calling United Airlin...           27.0  \n",
            "3  \\n\\nAgent: Thank you for calling United Airlin...           12.0  \n",
            "4  \\n\\nAgent: Thank you for calling United Airlin...           19.0  \n",
            "      call_id  agent_id agent_tone customer_tone  average_sentiment  \\\n",
            "0  4667960400    963118    neutral         angry              -0.04   \n",
            "1  1122072124    519057       calm       neutral               0.02   \n",
            "2  6834291559    158319    neutral        polite              -0.13   \n",
            "3  2266439882    488324    neutral    frustrated              -0.20   \n",
            "4  1211603231    721730    neutral        polite              -0.05   \n",
            "\n",
            "   silence_percent_average  \n",
            "0                     0.39  \n",
            "1                     0.35  \n",
            "2                     0.32  \n",
            "3                     0.20  \n",
            "4                     0.35  \n"
          ]
        }
      ]
    },
    {
      "cell_type": "code",
      "source": [
        "merged_df = pd.merge(df_duration, df_ctone, on='call_id')\n",
        "print(merged_df.head())"
      ],
      "metadata": {
        "colab": {
          "base_uri": "https://localhost:8080/"
        },
        "id": "vxF8abNioffw",
        "outputId": "4ba87f52-969c-43e6-e280-7e51fd5f4f81"
      },
      "execution_count": 5,
      "outputs": [
        {
          "output_type": "stream",
          "name": "stdout",
          "text": [
            "      call_id  customer_id  agent_id_x  call_start_datetime  \\\n",
            "0  4667960400   2033123310      963118  2024-07-31 23:56:00   \n",
            "1  1122072124   8186702651      519057  2024-08-01 00:03:00   \n",
            "2  6834291559   2416856629      158319  2024-07-31 23:59:00   \n",
            "3  2266439882   1154544516      488324  2024-08-01 00:05:00   \n",
            "4  1211603231   5214456437      721730  2024-08-01 00:04:00   \n",
            "\n",
            "  agent_assigned_datetime    call_end_datetime  \\\n",
            "0           8/1/2024 0:03  2024-08-01 00:34:00   \n",
            "1           8/1/2024 0:06  2024-08-01 00:18:00   \n",
            "2           8/1/2024 0:07  2024-08-01 00:26:00   \n",
            "3           8/1/2024 0:10  2024-08-01 00:17:00   \n",
            "4           8/1/2024 0:14  2024-08-01 00:23:00   \n",
            "\n",
            "                                     call_transcript  call_duration  \\\n",
            "0  \\n\\nAgent: Thank you for calling United Airlin...           38.0   \n",
            "1  \\n\\nAgent: Thank you for calling United Airlin...           15.0   \n",
            "2  \\n\\nAgent: Thank you for calling United Airlin...           27.0   \n",
            "3  \\n\\nAgent: Thank you for calling United Airlin...           12.0   \n",
            "4  \\n\\nAgent: Thank you for calling United Airlin...           19.0   \n",
            "\n",
            "   agent_id_y agent_tone customer_tone  average_sentiment  \\\n",
            "0      963118    neutral         angry              -0.04   \n",
            "1      519057       calm       neutral               0.02   \n",
            "2      158319    neutral        polite              -0.13   \n",
            "3      488324    neutral    frustrated              -0.20   \n",
            "4      721730    neutral        polite              -0.05   \n",
            "\n",
            "   silence_percent_average  \n",
            "0                     0.39  \n",
            "1                     0.35  \n",
            "2                     0.32  \n",
            "3                     0.20  \n",
            "4                     0.35  \n"
          ]
        }
      ]
    },
    {
      "cell_type": "code",
      "source": [
        "from sklearn.preprocessing import LabelEncoder\n",
        "\n",
        "label_encoder = LabelEncoder()\n",
        "merged_df['tone_of_customer'] = label_encoder.fit_transform(merged_df['customer_tone'])\n",
        "\n",
        "print(merged_df[['customer_tone', 'tone_of_customer']].head())"
      ],
      "metadata": {
        "colab": {
          "base_uri": "https://localhost:8080/"
        },
        "id": "Oi6ZORY-ojbG",
        "outputId": "8870cebf-e57c-4f06-ab88-79bab64548f9"
      },
      "execution_count": 6,
      "outputs": [
        {
          "output_type": "stream",
          "name": "stdout",
          "text": [
            "  customer_tone  tone_of_customer\n",
            "0         angry                 0\n",
            "1       neutral                 3\n",
            "2        polite                 4\n",
            "3    frustrated                 2\n",
            "4        polite                 4\n"
          ]
        }
      ]
    },
    {
      "cell_type": "code",
      "source": [
        "correlation = merged_df['call_duration'].corr(merged_df['tone_of_customer'])\n",
        "print(f\"Correlation between call_duration and tone_of_customer: {correlation}\")"
      ],
      "metadata": {
        "colab": {
          "base_uri": "https://localhost:8080/"
        },
        "id": "yBX3okrzotxn",
        "outputId": "786088b3-9858-48da-b72a-f6b84fccd3e6"
      },
      "execution_count": 7,
      "outputs": [
        {
          "output_type": "stream",
          "name": "stdout",
          "text": [
            "Correlation between call_duration and tone_of_customer: -0.0006511213021354063\n"
          ]
        }
      ]
    },
    {
      "cell_type": "code",
      "source": [
        "correlation_matrix = merged_df[['call_duration', 'tone_of_customer']].corr()\n",
        "\n",
        "plt.figure(figsize=(8,6))\n",
        "sns.heatmap(correlation_matrix, annot=True, cmap='coolwarm', linewidths=0.5)\n",
        "\n",
        "plt.title('Correlation Heatmap between Call Duration and tone of customer')\n",
        "plt.show()"
      ],
      "metadata": {
        "colab": {
          "base_uri": "https://localhost:8080/",
          "height": 545
        },
        "id": "I8uX_jnPo80v",
        "outputId": "bd4a1399-0e94-4503-f5eb-7d0cfb9ad5b4"
      },
      "execution_count": 8,
      "outputs": [
        {
          "output_type": "display_data",
          "data": {
            "text/plain": [
              "<Figure size 800x600 with 2 Axes>"
            ],
            "image/png": "[encoded data removed]"
          },
          "metadata": {}
        }
      ]
    },
    {
      "cell_type": "markdown",
      "source": [
        "Negetive correlation means that there is a slight tendency for call duration to decrease as the tone of the customer becomes more negative, but this effect is so small that it is likely insignificant. Other factors, such as the complexity of the issue, customer behavior, or specific call reason, might play a much larger role in determining call duration."
      ],
      "metadata": {
        "id": "sGdgpTH_pdve"
      }
    }
  ]
}