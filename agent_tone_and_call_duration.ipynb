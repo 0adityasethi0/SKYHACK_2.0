{
  "nbformat": 4,
  "nbformat_minor": 0,
  "metadata": {
    "colab": {
      "provenance": []
    },
    "kernelspec": {
      "name": "python3",
      "display_name": "Python 3"
    },
    "language_info": {
      "name": "python"
    }
  },
  "cells": [
    {
      "cell_type": "code",
      "execution_count": 1,
      "metadata": {
        "colab": {
          "base_uri": "https://localhost:8080/"
        },
        "id": "v3UT2VcxkN9r",
        "outputId": "c7ed0d0b-458c-441b-f5da-681806d440a0"
      },
      "outputs": [
        {
          "output_type": "stream",
          "name": "stdout",
          "text": [
            "Mounted at /content/drive\n"
          ]
        }
      ],
      "source": [
        "from google.colab import drive\n",
        "drive.mount('/content/drive')\n",
        "import os\n",
        "os.chdir('/content/drive/My Drive/hackathon/hackathon')"
      ]
    },
    {
      "cell_type": "code",
      "source": [
        "import pandas as pd\n",
        "import numpy as np\n",
        "import matplotlib.pyplot as plt\n",
        "import io\n",
        "import seaborn as sns\n",
        "from google.colab import files\n",
        "from sklearn.preprocessing import LabelEncoder"
      ],
      "metadata": {
        "id": "ycKgNgbDkr2w"
      },
      "execution_count": 2,
      "outputs": []
    },
    {
      "cell_type": "code",
      "source": [
        "df_duration = pd.read_csv('updated_file_with_call_duration.csv')\n",
        "df_atone = pd.read_csv('customer sentiment.csv')   #atone is agent tone"
      ],
      "metadata": {
        "id": "Wk-iM7MMk_AQ"
      },
      "execution_count": 4,
      "outputs": []
    },
    {
      "cell_type": "code",
      "source": [
        "print(df_duration.head())\n",
        "print(df_atone.head())"
      ],
      "metadata": {
        "colab": {
          "base_uri": "https://localhost:8080/"
        },
        "collapsed": true,
        "id": "05yb8Q6klLcH",
        "outputId": "22aafa70-e650-46c6-818b-6607cd700b29"
      },
      "execution_count": 5,
      "outputs": [
        {
          "output_type": "stream",
          "name": "stdout",
          "text": [
            "      call_id  customer_id  agent_id  call_start_datetime  \\\n",
            "0  4667960400   2033123310    963118  2024-07-31 23:56:00   \n",
            "1  1122072124   8186702651    519057  2024-08-01 00:03:00   \n",
            "2  6834291559   2416856629    158319  2024-07-31 23:59:00   \n",
            "3  2266439882   1154544516    488324  2024-08-01 00:05:00   \n",
            "4  1211603231   5214456437    721730  2024-08-01 00:04:00   \n",
            "\n",
            "  agent_assigned_datetime    call_end_datetime  \\\n",
            "0           8/1/2024 0:03  2024-08-01 00:34:00   \n",
            "1           8/1/2024 0:06  2024-08-01 00:18:00   \n",
            "2           8/1/2024 0:07  2024-08-01 00:26:00   \n",
            "3           8/1/2024 0:10  2024-08-01 00:17:00   \n",
            "4           8/1/2024 0:14  2024-08-01 00:23:00   \n",
            "\n",
            "                                     call_transcript  call_duration  \n",
            "0  \\n\\nAgent: Thank you for calling United Airlin...           38.0  \n",
            "1  \\n\\nAgent: Thank you for calling United Airlin...           15.0  \n",
            "2  \\n\\nAgent: Thank you for calling United Airlin...           27.0  \n",
            "3  \\n\\nAgent: Thank you for calling United Airlin...           12.0  \n",
            "4  \\n\\nAgent: Thank you for calling United Airlin...           19.0  \n",
            "      call_id  agent_id agent_tone customer_tone  average_sentiment  \\\n",
            "0  4667960400    963118    neutral         angry              -0.04   \n",
            "1  1122072124    519057       calm       neutral               0.02   \n",
            "2  6834291559    158319    neutral        polite              -0.13   \n",
            "3  2266439882    488324    neutral    frustrated              -0.20   \n",
            "4  1211603231    721730    neutral        polite              -0.05   \n",
            "\n",
            "   silence_percent_average  \n",
            "0                     0.39  \n",
            "1                     0.35  \n",
            "2                     0.32  \n",
            "3                     0.20  \n",
            "4                     0.35  \n"
          ]
        }
      ]
    },
    {
      "cell_type": "code",
      "source": [
        "merged_df = pd.merge(df_duration, df_atone, on='call_id')\n",
        "print(merged_df.head())"
      ],
      "metadata": {
        "colab": {
          "base_uri": "https://localhost:8080/"
        },
        "id": "XBIPsozBlbSx",
        "outputId": "dd4079fb-71e5-4d4f-8c4c-bafcbbbd9c10"
      },
      "execution_count": 6,
      "outputs": [
        {
          "output_type": "stream",
          "name": "stdout",
          "text": [
            "      call_id  customer_id  agent_id_x  call_start_datetime  \\\n",
            "0  4667960400   2033123310      963118  2024-07-31 23:56:00   \n",
            "1  1122072124   8186702651      519057  2024-08-01 00:03:00   \n",
            "2  6834291559   2416856629      158319  2024-07-31 23:59:00   \n",
            "3  2266439882   1154544516      488324  2024-08-01 00:05:00   \n",
            "4  1211603231   5214456437      721730  2024-08-01 00:04:00   \n",
            "\n",
            "  agent_assigned_datetime    call_end_datetime  \\\n",
            "0           8/1/2024 0:03  2024-08-01 00:34:00   \n",
            "1           8/1/2024 0:06  2024-08-01 00:18:00   \n",
            "2           8/1/2024 0:07  2024-08-01 00:26:00   \n",
            "3           8/1/2024 0:10  2024-08-01 00:17:00   \n",
            "4           8/1/2024 0:14  2024-08-01 00:23:00   \n",
            "\n",
            "                                     call_transcript  call_duration  \\\n",
            "0  \\n\\nAgent: Thank you for calling United Airlin...           38.0   \n",
            "1  \\n\\nAgent: Thank you for calling United Airlin...           15.0   \n",
            "2  \\n\\nAgent: Thank you for calling United Airlin...           27.0   \n",
            "3  \\n\\nAgent: Thank you for calling United Airlin...           12.0   \n",
            "4  \\n\\nAgent: Thank you for calling United Airlin...           19.0   \n",
            "\n",
            "   agent_id_y agent_tone customer_tone  average_sentiment  \\\n",
            "0      963118    neutral         angry              -0.04   \n",
            "1      519057       calm       neutral               0.02   \n",
            "2      158319    neutral        polite              -0.13   \n",
            "3      488324    neutral    frustrated              -0.20   \n",
            "4      721730    neutral        polite              -0.05   \n",
            "\n",
            "   silence_percent_average  \n",
            "0                     0.39  \n",
            "1                     0.35  \n",
            "2                     0.32  \n",
            "3                     0.20  \n",
            "4                     0.35  \n"
          ]
        }
      ]
    },
    {
      "cell_type": "code",
      "source": [
        "from sklearn.preprocessing import LabelEncoder\n",
        "\n",
        "label_encoder = LabelEncoder()\n",
        "merged_df['tone_of_agent'] = label_encoder.fit_transform(merged_df['agent_tone'])\n",
        "\n",
        "print(merged_df[['agent_tone', 'tone_of_agent']].head())"
      ],
      "metadata": {
        "colab": {
          "base_uri": "https://localhost:8080/"
        },
        "id": "JEwhJv1Almfy",
        "outputId": "6dafcab5-8f8c-47a2-a12a-693acf37fcde"
      },
      "execution_count": 7,
      "outputs": [
        {
          "output_type": "stream",
          "name": "stdout",
          "text": [
            "  agent_tone  tone_of_agent\n",
            "0    neutral              3\n",
            "1       calm              1\n",
            "2    neutral              3\n",
            "3    neutral              3\n",
            "4    neutral              3\n"
          ]
        }
      ]
    },
    {
      "cell_type": "code",
      "source": [
        "correlation = merged_df['call_duration'].corr(merged_df['tone_of_agent'])\n",
        "print(f\"Correlation between call_duration and primary_call_reason: {correlation}\")"
      ],
      "metadata": {
        "colab": {
          "base_uri": "https://localhost:8080/"
        },
        "id": "c09T1qFBmN5S",
        "outputId": "6e43529e-1b0d-4baa-b339-c9e543ea0a05"
      },
      "execution_count": 8,
      "outputs": [
        {
          "output_type": "stream",
          "name": "stdout",
          "text": [
            "Correlation between call_duration and primary_call_reason: 0.06762742167517523\n"
          ]
        }
      ]
    },
    {
      "cell_type": "code",
      "source": [
        "correlation_matrix = merged_df[['call_duration', 'tone_of_agent']].corr()\n",
        "\n",
        "plt.figure(figsize=(8,6))\n",
        "sns.heatmap(correlation_matrix, annot=True, cmap='coolwarm', linewidths=0.5)\n",
        "\n",
        "plt.title('Correlation Heatmap between Call Duration and tone of agent')\n",
        "plt.show()"
      ],
      "metadata": {
        "colab": {
          "base_uri": "https://localhost:8080/",
          "height": 545
        },
        "id": "wiFWARgMma2M",
        "outputId": "c0b2e0e1-d919-4019-e3c6-cea9583d239a"
      },
      "execution_count": 9,
      "outputs": [
        {
          "output_type": "display_data",
          "data": {
            "text/plain": [
              "<Figure size 800x600 with 2 Axes>"
            ],
            "image/png": "[encoded data removed]"
          },
          "metadata": {}
        }
      ]
    }
  ]
}