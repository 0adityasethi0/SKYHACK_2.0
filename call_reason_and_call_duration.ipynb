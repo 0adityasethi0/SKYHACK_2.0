{
  "nbformat": 4,
  "nbformat_minor": 0,
  "metadata": {
    "colab": {
      "provenance": []
    },
    "kernelspec": {
      "name": "python3",
      "display_name": "Python 3"
    },
    "language_info": {
      "name": "python"
    }
  },
  "cells": [
    {
      "cell_type": "code",
      "execution_count": 3,
      "metadata": {
        "colab": {
          "base_uri": "https://localhost:8080/"
        },
        "id": "zdqDmicKdKsa",
        "outputId": "ce62e7c4-7bcf-4110-ed52-39d2ea4a655e"
      },
      "outputs": [
        {
          "output_type": "stream",
          "name": "stdout",
          "text": [
            "Mounted at /content/drive\n"
          ]
        }
      ],
      "source": [
        "from google.colab import drive\n",
        "drive.mount('/content/drive')\n",
        "import os\n",
        "os.chdir('/content/drive/My Drive/hackathon/hackathon')"
      ]
    },
    {
      "cell_type": "code",
      "source": [
        "import pandas as pd\n",
        "import numpy as np\n",
        "import matplotlib.pyplot as plt\n",
        "import io\n",
        "import seaborn as sns\n",
        "from google.colab import files\n",
        "from sklearn.preprocessing import LabelEncoder\n"
      ],
      "metadata": {
        "id": "hMzuUq0gfCBu"
      },
      "execution_count": 4,
      "outputs": []
    },
    {
      "cell_type": "code",
      "source": [
        "df_duration = pd.read_csv('updated_file_with_call_duration.csv')\n",
        "df_reason = pd.read_csv('customer reason.csv')"
      ],
      "metadata": {
        "id": "ScaYwV7FfKQT"
      },
      "execution_count": 6,
      "outputs": []
    },
    {
      "cell_type": "code",
      "source": [
        "print(df_duration.head())\n",
        "print(df_reason.head())"
      ],
      "metadata": {
        "colab": {
          "base_uri": "https://localhost:8080/"
        },
        "id": "GMMHym6tfUo_",
        "outputId": "5b79aa13-e075-409f-f31c-6135e204ba66"
      },
      "execution_count": 7,
      "outputs": [
        {
          "output_type": "stream",
          "name": "stdout",
          "text": [
            "      call_id  customer_id  agent_id  call_start_datetime  \\\n",
            "0  4667960400   2033123310    963118  2024-07-31 23:56:00   \n",
            "1  1122072124   8186702651    519057  2024-08-01 00:03:00   \n",
            "2  6834291559   2416856629    158319  2024-07-31 23:59:00   \n",
            "3  2266439882   1154544516    488324  2024-08-01 00:05:00   \n",
            "4  1211603231   5214456437    721730  2024-08-01 00:04:00   \n",
            "\n",
            "  agent_assigned_datetime    call_end_datetime  \\\n",
            "0           8/1/2024 0:03  2024-08-01 00:34:00   \n",
            "1           8/1/2024 0:06  2024-08-01 00:18:00   \n",
            "2           8/1/2024 0:07  2024-08-01 00:26:00   \n",
            "3           8/1/2024 0:10  2024-08-01 00:17:00   \n",
            "4           8/1/2024 0:14  2024-08-01 00:23:00   \n",
            "\n",
            "                                     call_transcript  call_duration  \n",
            "0  \\n\\nAgent: Thank you for calling United Airlin...           38.0  \n",
            "1  \\n\\nAgent: Thank you for calling United Airlin...           15.0  \n",
            "2  \\n\\nAgent: Thank you for calling United Airlin...           27.0  \n",
            "3  \\n\\nAgent: Thank you for calling United Airlin...           12.0  \n",
            "4  \\n\\nAgent: Thank you for calling United Airlin...           19.0  \n",
            "      call_id primary_call_reason\n",
            "0  4667960400   Voluntary  Cancel\n",
            "1  1122072124             Booking\n",
            "2  6834291559              IRROPS\n",
            "3  2266439882             Upgrade\n",
            "4  1211603231             Seating\n"
          ]
        }
      ]
    },
    {
      "cell_type": "code",
      "source": [
        "merged_df = pd.merge(df_duration, df_reason, on='call_id')\n",
        "print(merged_df.head())"
      ],
      "metadata": {
        "colab": {
          "base_uri": "https://localhost:8080/"
        },
        "collapsed": true,
        "id": "XJq1eYxEfZSp",
        "outputId": "c560f2ee-9b75-416a-c4a5-5a05175326b4"
      },
      "execution_count": 9,
      "outputs": [
        {
          "output_type": "stream",
          "name": "stdout",
          "text": [
            "      call_id  customer_id  agent_id  call_start_datetime  \\\n",
            "0  4667960400   2033123310    963118  2024-07-31 23:56:00   \n",
            "1  1122072124   8186702651    519057  2024-08-01 00:03:00   \n",
            "2  6834291559   2416856629    158319  2024-07-31 23:59:00   \n",
            "3  2266439882   1154544516    488324  2024-08-01 00:05:00   \n",
            "4  1211603231   5214456437    721730  2024-08-01 00:04:00   \n",
            "\n",
            "  agent_assigned_datetime    call_end_datetime  \\\n",
            "0           8/1/2024 0:03  2024-08-01 00:34:00   \n",
            "1           8/1/2024 0:06  2024-08-01 00:18:00   \n",
            "2           8/1/2024 0:07  2024-08-01 00:26:00   \n",
            "3           8/1/2024 0:10  2024-08-01 00:17:00   \n",
            "4           8/1/2024 0:14  2024-08-01 00:23:00   \n",
            "\n",
            "                                     call_transcript  call_duration  \\\n",
            "0  \\n\\nAgent: Thank you for calling United Airlin...           38.0   \n",
            "1  \\n\\nAgent: Thank you for calling United Airlin...           15.0   \n",
            "2  \\n\\nAgent: Thank you for calling United Airlin...           27.0   \n",
            "3  \\n\\nAgent: Thank you for calling United Airlin...           12.0   \n",
            "4  \\n\\nAgent: Thank you for calling United Airlin...           19.0   \n",
            "\n",
            "  primary_call_reason  \n",
            "0   Voluntary  Cancel  \n",
            "1             Booking  \n",
            "2              IRROPS  \n",
            "3             Upgrade  \n",
            "4             Seating  \n"
          ]
        }
      ]
    },
    {
      "cell_type": "code",
      "source": [
        "from sklearn.preprocessing import LabelEncoder\n",
        "\n",
        "label_encoder = LabelEncoder()\n",
        "merged_df['primary_call_reasons'] = label_encoder.fit_transform(merged_df['primary_call_reason'])\n",
        "\n",
        "print(merged_df[['primary_call_reason', 'primary_call_reasons']].head())"
      ],
      "metadata": {
        "colab": {
          "base_uri": "https://localhost:8080/"
        },
        "id": "Jwt1_S4DfZU8",
        "outputId": "66887d9b-f7d7-445f-8928-a9197c72b531"
      },
      "execution_count": 13,
      "outputs": [
        {
          "output_type": "stream",
          "name": "stdout",
          "text": [
            "  primary_call_reason  primary_call_reasons\n",
            "0   Voluntary  Cancel                    48\n",
            "1             Booking                     3\n",
            "2              IRROPS                    20\n",
            "3             Upgrade                    45\n",
            "4             Seating                    37\n"
          ]
        }
      ]
    },
    {
      "cell_type": "code",
      "source": [
        "correlation = merged_df['call_duration'].corr(merged_df['primary_call_reasons'])\n",
        "print(f\"Correlation between call_duration and primary_call_reason: {correlation}\")"
      ],
      "metadata": {
        "colab": {
          "base_uri": "https://localhost:8080/"
        },
        "id": "WZUgux_LgZpY",
        "outputId": "3a54cd15-ef73-4d77-e9fe-881ae8780988"
      },
      "execution_count": 14,
      "outputs": [
        {
          "output_type": "stream",
          "name": "stdout",
          "text": [
            "Correlation between call_duration and primary_call_reason: 0.04655584889569231\n"
          ]
        }
      ]
    },
    {
      "cell_type": "code",
      "source": [
        "correlation_matrix = merged_df[['call_duration', 'primary_call_reasons']].corr()\n",
        "\n",
        "plt.figure(figsize=(8,6))\n",
        "sns.heatmap(correlation_matrix, annot=True, cmap='coolwarm', linewidths=0.5)\n",
        "\n",
        "plt.title('Correlation Heatmap between Call Duration and Primary Call Reason')\n",
        "plt.show()"
      ],
      "metadata": {
        "colab": {
          "base_uri": "https://localhost:8080/",
          "height": 545
        },
        "id": "KdNRXbx-gyrO",
        "outputId": "a148c540-7905-42af-bc44-58e59f58b461"
      },
      "execution_count": 15,
      "outputs": [
        {
          "output_type": "display_data",
          "data": {
            "text/plain": [
              "<Figure size 800x600 with 2 Axes>"
            ],
            "image/png": "[encoded data removed]"
          },
          "metadata": {}
        }
      ]
    },
    {
      "cell_type": "markdown",
      "source": [
        "**Correlation between call duration and call reason is comming out to be 0.47.\n",
        "A 0.47 correlation suggests that call reason may have some impact on duration of calls, but the realtionship is not very strong. Correlation of 0.47 shows that there is a tendency for certain primary call reasons to be associated with longer or shorter call durations, but other factors might also be influencing call duration.**"
      ],
      "metadata": {
        "id": "qsdY5yYWhdb7"
      }
    },
    {
      "cell_type": "markdown",
      "source": [],
      "metadata": {
        "id": "MTV9GLF8iBgc"
      }
    }
  ]
}