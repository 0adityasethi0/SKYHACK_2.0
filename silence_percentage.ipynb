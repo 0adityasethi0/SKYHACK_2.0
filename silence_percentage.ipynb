{
  "nbformat": 4,
  "nbformat_minor": 0,
  "metadata": {
    "colab": {
      "provenance": []
    },
    "kernelspec": {
      "name": "python3",
      "display_name": "Python 3"
    },
    "language_info": {
      "name": "python"
    }
  },
  "cells": [
    {
      "cell_type": "code",
      "execution_count": 1,
      "metadata": {
        "colab": {
          "base_uri": "https://localhost:8080/"
        },
        "id": "5htSSm8sW_Rb",
        "outputId": "7f67683c-77a0-4661-8881-137a582b5f82"
      },
      "outputs": [
        {
          "output_type": "stream",
          "name": "stdout",
          "text": [
            "Mounted at /content/drive\n"
          ]
        }
      ],
      "source": [
        "from google.colab import drive\n",
        "drive.mount('/content/drive')\n",
        "import os\n",
        "os.chdir('/content/drive/My Drive/hackathon/hackathon')"
      ]
    },
    {
      "cell_type": "code",
      "source": [
        "import pandas as pd\n",
        "import numpy as np\n",
        "import matplotlib.pyplot as plt\n",
        "import seaborn as sns\n",
        "from google.colab import files"
      ],
      "metadata": {
        "id": "A3i0VEZNXASn"
      },
      "execution_count": 2,
      "outputs": []
    },
    {
      "cell_type": "code",
      "source": [
        "call_duration_df = pd.read_csv('updated_file_with_call_duration.csv')\n",
        "silence_df = pd.read_csv('customer sentiment.csv')"
      ],
      "metadata": {
        "id": "ezV1rrmvXbq7"
      },
      "execution_count": 3,
      "outputs": []
    },
    {
      "cell_type": "code",
      "source": [
        "print(call_duration_df.head())\n",
        "print(silence_df.head())"
      ],
      "metadata": {
        "colab": {
          "base_uri": "https://localhost:8080/"
        },
        "id": "gqR1byUmXlOX",
        "outputId": "93fb8dc3-0c51-45f0-ac6c-d449fd2de635"
      },
      "execution_count": 5,
      "outputs": [
        {
          "output_type": "stream",
          "name": "stdout",
          "text": [
            "      call_id  customer_id  agent_id  call_start_datetime  \\\n",
            "0  4667960400   2033123310    963118  2024-07-31 23:56:00   \n",
            "1  1122072124   8186702651    519057  2024-08-01 00:03:00   \n",
            "2  6834291559   2416856629    158319  2024-07-31 23:59:00   \n",
            "3  2266439882   1154544516    488324  2024-08-01 00:05:00   \n",
            "4  1211603231   5214456437    721730  2024-08-01 00:04:00   \n",
            "\n",
            "  agent_assigned_datetime    call_end_datetime  \\\n",
            "0           8/1/2024 0:03  2024-08-01 00:34:00   \n",
            "1           8/1/2024 0:06  2024-08-01 00:18:00   \n",
            "2           8/1/2024 0:07  2024-08-01 00:26:00   \n",
            "3           8/1/2024 0:10  2024-08-01 00:17:00   \n",
            "4           8/1/2024 0:14  2024-08-01 00:23:00   \n",
            "\n",
            "                                     call_transcript  call_duration  \n",
            "0  \\n\\nAgent: Thank you for calling United Airlin...           38.0  \n",
            "1  \\n\\nAgent: Thank you for calling United Airlin...           15.0  \n",
            "2  \\n\\nAgent: Thank you for calling United Airlin...           27.0  \n",
            "3  \\n\\nAgent: Thank you for calling United Airlin...           12.0  \n",
            "4  \\n\\nAgent: Thank you for calling United Airlin...           19.0  \n",
            "      call_id  agent_id agent_tone customer_tone  average_sentiment  \\\n",
            "0  4667960400    963118    neutral         angry              -0.04   \n",
            "1  1122072124    519057       calm       neutral               0.02   \n",
            "2  6834291559    158319    neutral        polite              -0.13   \n",
            "3  2266439882    488324    neutral    frustrated              -0.20   \n",
            "4  1211603231    721730    neutral        polite              -0.05   \n",
            "\n",
            "   silence_percent_average  \n",
            "0                     0.39  \n",
            "1                     0.35  \n",
            "2                     0.32  \n",
            "3                     0.20  \n",
            "4                     0.35  \n"
          ]
        }
      ]
    },
    {
      "cell_type": "code",
      "source": [
        "merged_df = pd.merge(call_duration_df, silence_df, on='call_id')\n",
        "print(merged_df.head())"
      ],
      "metadata": {
        "colab": {
          "base_uri": "https://localhost:8080/"
        },
        "id": "ZyqHbq_wXnYJ",
        "outputId": "55a04a8c-bf16-4a0c-d459-915ee52a7fb3"
      },
      "execution_count": 7,
      "outputs": [
        {
          "output_type": "stream",
          "name": "stdout",
          "text": [
            "      call_id  customer_id  agent_id_x  call_start_datetime  \\\n",
            "0  4667960400   2033123310      963118  2024-07-31 23:56:00   \n",
            "1  1122072124   8186702651      519057  2024-08-01 00:03:00   \n",
            "2  6834291559   2416856629      158319  2024-07-31 23:59:00   \n",
            "3  2266439882   1154544516      488324  2024-08-01 00:05:00   \n",
            "4  1211603231   5214456437      721730  2024-08-01 00:04:00   \n",
            "\n",
            "  agent_assigned_datetime    call_end_datetime  \\\n",
            "0           8/1/2024 0:03  2024-08-01 00:34:00   \n",
            "1           8/1/2024 0:06  2024-08-01 00:18:00   \n",
            "2           8/1/2024 0:07  2024-08-01 00:26:00   \n",
            "3           8/1/2024 0:10  2024-08-01 00:17:00   \n",
            "4           8/1/2024 0:14  2024-08-01 00:23:00   \n",
            "\n",
            "                                     call_transcript  call_duration  \\\n",
            "0  \\n\\nAgent: Thank you for calling United Airlin...           38.0   \n",
            "1  \\n\\nAgent: Thank you for calling United Airlin...           15.0   \n",
            "2  \\n\\nAgent: Thank you for calling United Airlin...           27.0   \n",
            "3  \\n\\nAgent: Thank you for calling United Airlin...           12.0   \n",
            "4  \\n\\nAgent: Thank you for calling United Airlin...           19.0   \n",
            "\n",
            "   agent_id_y agent_tone customer_tone  average_sentiment  \\\n",
            "0      963118    neutral         angry              -0.04   \n",
            "1      519057       calm       neutral               0.02   \n",
            "2      158319    neutral        polite              -0.13   \n",
            "3      488324    neutral    frustrated              -0.20   \n",
            "4      721730    neutral        polite              -0.05   \n",
            "\n",
            "   silence_percent_average  \n",
            "0                     0.39  \n",
            "1                     0.35  \n",
            "2                     0.32  \n",
            "3                     0.20  \n",
            "4                     0.35  \n"
          ]
        }
      ]
    },
    {
      "cell_type": "code",
      "source": [
        "correlation = call_duration_df['call_duration'].corr(silence_df['silence_percent_average'])\n",
        "print(f'Correlation between call_duration and average percentage of silence: {correlation}')"
      ],
      "metadata": {
        "colab": {
          "base_uri": "https://localhost:8080/"
        },
        "id": "_SosmXd2Xv_Y",
        "outputId": "6752099f-a7e7-4551-f972-bb09fdd73258"
      },
      "execution_count": 13,
      "outputs": [
        {
          "output_type": "stream",
          "name": "stdout",
          "text": [
            "Correlation between call_duration and average percentage of silence: 0.39912529912105965\n"
          ]
        }
      ]
    },
    {
      "cell_type": "code",
      "source": [
        "correlation_matrix = merged_df[['call_duration', 'silence_percent_average']].corr()\n",
        "\n",
        "plt.figure(figsize=(8,6))\n",
        "sns.heatmap(correlation_matrix, annot=True, cmap='coolwarm', linewidths=0.5)\n",
        "\n",
        "plt.title('Correlation Heatmap between Call Duration and average percentage of silence')\n",
        "plt.show()"
      ],
      "metadata": {
        "colab": {
          "base_uri": "https://localhost:8080/",
          "height": 545
        },
        "id": "XuOIAtLyX8Gi",
        "outputId": "a220cc01-d04d-4b0d-afc3-9786bae22aec"
      },
      "execution_count": 14,
      "outputs": [
        {
          "output_type": "display_data",
          "data": {
            "text/plain": [
              "<Figure size 800x600 with 2 Axes>"
            ],
            "image/png": "[encoded data removed]"
          },
          "metadata": {}
        }
      ]
    }
  ]
}